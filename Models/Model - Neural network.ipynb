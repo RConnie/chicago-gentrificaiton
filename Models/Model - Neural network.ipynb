{
 "cells": [
  {
   "cell_type": "markdown",
   "id": "962c000c",
   "metadata": {},
   "source": [
    "<h1><center>PREDICTING GENTRIFICATION IN CHICAGO</center></h1>"
   ]
  },
  {
   "cell_type": "markdown",
   "id": "febb6c56",
   "metadata": {},
   "source": [
    "# Model Testing"
   ]
  },
  {
   "cell_type": "markdown",
   "id": "c1a2f5db",
   "metadata": {},
   "source": [
    "### Loading of data:"
   ]
  },
  {
   "cell_type": "code",
   "execution_count": 1,
   "id": "61a39769",
   "metadata": {},
   "outputs": [],
   "source": [
    "import pandas as pd\n",
    "import numpy as np"
   ]
  },
  {
   "cell_type": "code",
   "execution_count": 2,
   "id": "1507e497",
   "metadata": {},
   "outputs": [],
   "source": [
    "x_vals = pd.read_csv(\"../Data/features.csv\", header = 0, index_col = 0)\n",
    "y_vals = pd.read_csv(\"../Data/Data Determine Y/Zipcode_Yvalues.csv\", header = 0, index_col = 0)"
   ]
  },
  {
   "cell_type": "code",
   "execution_count": 3,
   "id": "c654f747",
   "metadata": {},
   "outputs": [],
   "source": [
    "y_vals['Zipcode'] = y_vals['Zipcode'].astype('int32')\n",
    "y_vals = y_vals.rename(columns={'Zipcode': 'zip', 'Gentrified2020':2012})\n",
    "y_vals = pd.melt(y_vals, id_vars=['zip'], value_vars=[2012], var_name='year')"
   ]
  },
  {
   "cell_type": "code",
   "execution_count": 4,
   "id": "30452512",
   "metadata": {},
   "outputs": [],
   "source": [
    "# Merge datasets and clean data\n",
    "df = x_vals[x_vals['year'] == 2012].merge(y_vals, how='left', on=['zip', 'year'])\n",
    "df = df.dropna(axis=1)\n",
    "df = df.iloc[:,2:]\n",
    "\n",
    "# Change percentages to percentage format\n",
    "df.college = df.college * 0.01\n",
    "df.non_hip_white = df.non_hip_white * 0.01\n",
    "df.vacancy = df.vacancy * 0.01\n",
    "df.eviction_rate = df.eviction_rate * 0.01"
   ]
  },
  {
   "cell_type": "code",
   "execution_count": 5,
   "id": "542b7677",
   "metadata": {
    "scrolled": true
   },
   "outputs": [],
   "source": [
    "# Define features and labels\n",
    "X = df.iloc[:, :13]\n",
    "y = df.iloc[:, 13]"
   ]
  },
  {
   "cell_type": "code",
   "execution_count": 6,
   "id": "859eaa29",
   "metadata": {
    "scrolled": false
   },
   "outputs": [
    {
     "data": {
      "text/html": [
       "<div>\n",
       "<style scoped>\n",
       "    .dataframe tbody tr th:only-of-type {\n",
       "        vertical-align: middle;\n",
       "    }\n",
       "\n",
       "    .dataframe tbody tr th {\n",
       "        vertical-align: top;\n",
       "    }\n",
       "\n",
       "    .dataframe thead th {\n",
       "        text-align: right;\n",
       "    }\n",
       "</style>\n",
       "<table border=\"1\" class=\"dataframe\">\n",
       "  <thead>\n",
       "    <tr style=\"text-align: right;\">\n",
       "      <th></th>\n",
       "      <th>property_crime</th>\n",
       "      <th>violent_crime</th>\n",
       "      <th>homicide</th>\n",
       "      <th>college</th>\n",
       "      <th>non_hip_white</th>\n",
       "      <th>vacancy</th>\n",
       "      <th>med_rent</th>\n",
       "      <th>perc_under_18</th>\n",
       "      <th>perc_over_65</th>\n",
       "      <th>unemp_rate</th>\n",
       "      <th>eviction_rate</th>\n",
       "      <th>gardens</th>\n",
       "      <th>park_area</th>\n",
       "    </tr>\n",
       "  </thead>\n",
       "  <tbody>\n",
       "    <tr>\n",
       "      <th>count</th>\n",
       "      <td>58.000000</td>\n",
       "      <td>58.000000</td>\n",
       "      <td>58.000000</td>\n",
       "      <td>58.000000</td>\n",
       "      <td>58.000000</td>\n",
       "      <td>58.000000</td>\n",
       "      <td>58.000000</td>\n",
       "      <td>58.000000</td>\n",
       "      <td>58.000000</td>\n",
       "      <td>58.000000</td>\n",
       "      <td>58.000000</td>\n",
       "      <td>58.000000</td>\n",
       "      <td>58.000000</td>\n",
       "    </tr>\n",
       "    <tr>\n",
       "      <th>mean</th>\n",
       "      <td>10481.528914</td>\n",
       "      <td>2717.639266</td>\n",
       "      <td>40.382026</td>\n",
       "      <td>0.395242</td>\n",
       "      <td>0.394033</td>\n",
       "      <td>0.147250</td>\n",
       "      <td>1060.017241</td>\n",
       "      <td>0.187463</td>\n",
       "      <td>0.021378</td>\n",
       "      <td>0.128764</td>\n",
       "      <td>0.018384</td>\n",
       "      <td>0.724138</td>\n",
       "      <td>14.509855</td>\n",
       "    </tr>\n",
       "    <tr>\n",
       "      <th>std</th>\n",
       "      <td>6471.561689</td>\n",
       "      <td>2662.755466</td>\n",
       "      <td>47.924665</td>\n",
       "      <td>0.265429</td>\n",
       "      <td>0.289354</td>\n",
       "      <td>0.070940</td>\n",
       "      <td>317.502838</td>\n",
       "      <td>0.079118</td>\n",
       "      <td>0.015115</td>\n",
       "      <td>0.071903</td>\n",
       "      <td>0.010298</td>\n",
       "      <td>0.450851</td>\n",
       "      <td>25.011043</td>\n",
       "    </tr>\n",
       "    <tr>\n",
       "      <th>min</th>\n",
       "      <td>809.693400</td>\n",
       "      <td>58.914900</td>\n",
       "      <td>0.000000</td>\n",
       "      <td>0.060547</td>\n",
       "      <td>0.005805</td>\n",
       "      <td>0.053519</td>\n",
       "      <td>690.000000</td>\n",
       "      <td>0.028037</td>\n",
       "      <td>0.003782</td>\n",
       "      <td>0.020738</td>\n",
       "      <td>0.003943</td>\n",
       "      <td>0.000000</td>\n",
       "      <td>0.000000</td>\n",
       "    </tr>\n",
       "    <tr>\n",
       "      <th>25%</th>\n",
       "      <td>5074.829200</td>\n",
       "      <td>711.849500</td>\n",
       "      <td>4.158100</td>\n",
       "      <td>0.166370</td>\n",
       "      <td>0.097274</td>\n",
       "      <td>0.094473</td>\n",
       "      <td>861.250000</td>\n",
       "      <td>0.117615</td>\n",
       "      <td>0.011837</td>\n",
       "      <td>0.082117</td>\n",
       "      <td>0.011077</td>\n",
       "      <td>0.000000</td>\n",
       "      <td>3.381782</td>\n",
       "    </tr>\n",
       "    <tr>\n",
       "      <th>50%</th>\n",
       "      <td>9929.516900</td>\n",
       "      <td>1640.182700</td>\n",
       "      <td>17.277850</td>\n",
       "      <td>0.344956</td>\n",
       "      <td>0.408271</td>\n",
       "      <td>0.125757</td>\n",
       "      <td>929.000000</td>\n",
       "      <td>0.213305</td>\n",
       "      <td>0.016862</td>\n",
       "      <td>0.110585</td>\n",
       "      <td>0.016435</td>\n",
       "      <td>1.000000</td>\n",
       "      <td>6.429110</td>\n",
       "    </tr>\n",
       "    <tr>\n",
       "      <th>75%</th>\n",
       "      <td>15524.720475</td>\n",
       "      <td>4182.333550</td>\n",
       "      <td>70.069475</td>\n",
       "      <td>0.600502</td>\n",
       "      <td>0.625932</td>\n",
       "      <td>0.180582</td>\n",
       "      <td>1109.500000</td>\n",
       "      <td>0.257073</td>\n",
       "      <td>0.024744</td>\n",
       "      <td>0.167104</td>\n",
       "      <td>0.023348</td>\n",
       "      <td>1.000000</td>\n",
       "      <td>13.232485</td>\n",
       "    </tr>\n",
       "    <tr>\n",
       "      <th>max</th>\n",
       "      <td>23338.244400</td>\n",
       "      <td>8625.991900</td>\n",
       "      <td>141.520900</td>\n",
       "      <td>0.895145</td>\n",
       "      <td>0.867348</td>\n",
       "      <td>0.388759</td>\n",
       "      <td>1923.000000</td>\n",
       "      <td>0.297232</td>\n",
       "      <td>0.069227</td>\n",
       "      <td>0.345020</td>\n",
       "      <td>0.050545</td>\n",
       "      <td>1.000000</td>\n",
       "      <td>131.852813</td>\n",
       "    </tr>\n",
       "  </tbody>\n",
       "</table>\n",
       "</div>"
      ],
      "text/plain": [
       "       property_crime  violent_crime    homicide    college  non_hip_white  \\\n",
       "count       58.000000      58.000000   58.000000  58.000000      58.000000   \n",
       "mean     10481.528914    2717.639266   40.382026   0.395242       0.394033   \n",
       "std       6471.561689    2662.755466   47.924665   0.265429       0.289354   \n",
       "min        809.693400      58.914900    0.000000   0.060547       0.005805   \n",
       "25%       5074.829200     711.849500    4.158100   0.166370       0.097274   \n",
       "50%       9929.516900    1640.182700   17.277850   0.344956       0.408271   \n",
       "75%      15524.720475    4182.333550   70.069475   0.600502       0.625932   \n",
       "max      23338.244400    8625.991900  141.520900   0.895145       0.867348   \n",
       "\n",
       "         vacancy     med_rent  perc_under_18  perc_over_65  unemp_rate  \\\n",
       "count  58.000000    58.000000      58.000000     58.000000   58.000000   \n",
       "mean    0.147250  1060.017241       0.187463      0.021378    0.128764   \n",
       "std     0.070940   317.502838       0.079118      0.015115    0.071903   \n",
       "min     0.053519   690.000000       0.028037      0.003782    0.020738   \n",
       "25%     0.094473   861.250000       0.117615      0.011837    0.082117   \n",
       "50%     0.125757   929.000000       0.213305      0.016862    0.110585   \n",
       "75%     0.180582  1109.500000       0.257073      0.024744    0.167104   \n",
       "max     0.388759  1923.000000       0.297232      0.069227    0.345020   \n",
       "\n",
       "       eviction_rate    gardens   park_area  \n",
       "count      58.000000  58.000000   58.000000  \n",
       "mean        0.018384   0.724138   14.509855  \n",
       "std         0.010298   0.450851   25.011043  \n",
       "min         0.003943   0.000000    0.000000  \n",
       "25%         0.011077   0.000000    3.381782  \n",
       "50%         0.016435   1.000000    6.429110  \n",
       "75%         0.023348   1.000000   13.232485  \n",
       "max         0.050545   1.000000  131.852813  "
      ]
     },
     "execution_count": 6,
     "metadata": {},
     "output_type": "execute_result"
    }
   ],
   "source": [
    "# Feature variable statistics after cleaning\n",
    "X.describe()"
   ]
  },
  {
   "cell_type": "code",
   "execution_count": 7,
   "id": "fb927de7",
   "metadata": {},
   "outputs": [
    {
     "data": {
      "text/plain": [
       "array([0, 1], dtype=int64)"
      ]
     },
     "execution_count": 7,
     "metadata": {},
     "output_type": "execute_result"
    }
   ],
   "source": [
    "# Labels\n",
    "y.unique()"
   ]
  },
  {
   "cell_type": "markdown",
   "id": "a5e32f37",
   "metadata": {},
   "source": [
    "### Data pre-processing:"
   ]
  },
  {
   "cell_type": "code",
   "execution_count": 8,
   "id": "95819c29",
   "metadata": {},
   "outputs": [],
   "source": [
    "import sklearn\n",
    "import sklearn.model_selection\n",
    "from sklearn.preprocessing import RobustScaler"
   ]
  },
  {
   "cell_type": "code",
   "execution_count": 9,
   "id": "4702f091",
   "metadata": {},
   "outputs": [],
   "source": [
    "# Scale features\n",
    "scaler = RobustScaler()\n",
    "X_scaled = scaler.fit_transform(X)"
   ]
  },
  {
   "cell_type": "code",
   "execution_count": 10,
   "id": "7bcb8d59",
   "metadata": {},
   "outputs": [],
   "source": [
    "# Split into train and test sets\n",
    "rndm_state = 999\n",
    "X_train, X_test, y_train, y_test = sklearn.model_selection.train_test_split(\n",
    "                                    X_scaled, y,\n",
    "                                    train_size=0.65,\n",
    "                                    random_state=rndm_state)"
   ]
  },
  {
   "cell_type": "markdown",
   "id": "9d89959b",
   "metadata": {},
   "source": [
    "# Feature Importance"
   ]
  },
  {
   "cell_type": "code",
   "execution_count": 11,
   "id": "1842d93e",
   "metadata": {},
   "outputs": [],
   "source": [
    "from sklearn.ensemble import RandomForestClassifier\n",
    "import matplotlib.pyplot as plt"
   ]
  },
  {
   "cell_type": "code",
   "execution_count": 12,
   "id": "6137ba25",
   "metadata": {},
   "outputs": [
    {
     "data": {
      "image/png": "[encoded data removed]",
      "text/plain": [
       "<Figure size 432x288 with 1 Axes>"
      ]
     },
     "metadata": {
      "needs_background": "light"
     },
     "output_type": "display_data"
    }
   ],
   "source": [
    "#### Determine feature importance\n",
    "rndm_state = 999\n",
    "feat_labels = X.columns[0:]\n",
    "forest = RandomForestClassifier(n_estimators=50, \n",
    "                                max_depth=2, \n",
    "                                random_state=rndm_state)\n",
    "forest.fit(X_train, y_train)\n",
    "importances = forest.feature_importances_\n",
    "indices = np.argsort(importances)[::-1]\n",
    "\n",
    "# Plot of feature importance taken from:\n",
    "# Raschka, Liu, and Mirjalili - \"Machine Learning with PyTorch and Scikit-Learn\"\n",
    "plt.title('Feature importance')\n",
    "plt.bar(range(X_train.shape[1]),\n",
    "       importances[indices],\n",
    "       align = 'center')\n",
    "plt.xticks(range(X_train.shape[1]),\n",
    "           feat_labels[indices], \n",
    "           rotation=90)\n",
    "plt.xlim([-1, X_train.shape[1]])\n",
    "plt.show()"
   ]
  },
  {
   "cell_type": "code",
   "execution_count": 13,
   "id": "bf618d2c",
   "metadata": {},
   "outputs": [
    {
     "data": {
      "text/plain": [
       "array([[ 1.32439684e-01,  6.45516005e-02,  1.53911218e-02,\n",
       "        -2.87042787e-01, -4.88254470e-02, -3.42682488e-01,\n",
       "        -1.65156093e-01,  5.05344032e-01, -4.96515371e-01,\n",
       "         2.78743645e-01, -9.77875966e-02,  0.00000000e+00,\n",
       "        -6.90687978e-02],\n",
       "       [ 3.57014614e-01,  1.51952057e+00,  1.32322456e+00,\n",
       "        -5.74476096e-01, -7.27809585e-01,  7.69836736e-01,\n",
       "        -3.22255791e-01, -9.80228987e-02,  6.26604300e-01,\n",
       "         1.79478897e+00,  2.14277608e+00,  0.00000000e+00,\n",
       "         1.03687749e+00],\n",
       "       [ 9.37550807e-01,  5.19896209e-01,  1.71599364e-01,\n",
       "         1.48090305e-01, -6.10230661e-02, -1.12592121e-01,\n",
       "         1.73212487e-01, -1.97712285e-01,  8.43401094e-01,\n",
       "        -2.93656356e-01, -6.22702831e-01,  0.00000000e+00,\n",
       "        -8.84682271e-02],\n",
       "       [-2.75452397e-01, -2.42419786e-01, -1.50926149e-01,\n",
       "         1.08053438e+00,  6.02217685e-01,  5.38875475e-01,\n",
       "         3.36354481e+00, -5.94164539e-01,  2.39469783e-01,\n",
       "        -3.77350495e-01, -4.52679184e-01, -1.00000000e+00,\n",
       "        -5.45829841e-01],\n",
       "       [-4.67545180e-01, -2.30541126e-01, -1.10418725e-01,\n",
       "        -3.73411242e-01,  2.71336240e-01, -6.46888683e-01,\n",
       "        -1.40986908e-01,  4.69490702e-01, -6.18129644e-01,\n",
       "        -1.40752450e-01, -3.14616631e-01,  0.00000000e+00,\n",
       "        -4.40489122e-02],\n",
       "       [-2.73274901e-01, -2.85426380e-01, -1.75751909e-01,\n",
       "         5.93060908e-01,  2.78825823e-01, -5.15691064e-01,\n",
       "         7.81470292e-01,  1.36282466e-01, -3.39525287e-01,\n",
       "        -3.13417892e-01, -8.14578823e-01,  0.00000000e+00,\n",
       "        -6.52654958e-01],\n",
       "       [ 1.16333574e+00,  2.01292070e+00,  1.78982384e+00,\n",
       "        -2.75110731e-01, -7.59400519e-01,  6.69290452e-01,\n",
       "        -3.94763343e-01, -8.04105567e-01,  2.43875511e+00,\n",
       "         1.34392820e+00,  1.53858309e+00,  0.00000000e+00,\n",
       "        -5.35586512e-02],\n",
       "       [-7.41981404e-01, -4.29887093e-01, -2.32396153e-01,\n",
       "        -1.35833480e-01,  7.17769554e-01, -7.46820784e-01,\n",
       "         4.14904330e-01, -5.21513568e-01,  6.24183803e-01,\n",
       "        -3.10738880e-01, -1.44741853e-01, -1.00000000e+00,\n",
       "        -4.09060756e-01],\n",
       "       [-3.21994833e-02,  3.01380783e-01,  3.77548640e-01,\n",
       "         3.93172373e-01, -3.13410301e-01,  3.96282462e-01,\n",
       "        -1.61127895e-02,  4.04771900e-01, -4.55999429e-01,\n",
       "         4.82089091e-01,  3.39080007e-01,  0.00000000e+00,\n",
       "         1.88257206e-01],\n",
       "       [-7.08577985e-01, -4.13053764e-01, -2.62084504e-01,\n",
       "         1.15691677e+00,  4.44523595e-01, -1.08759657e-01,\n",
       "         2.35246727e+00,  1.03682645e-01,  1.37833802e+00,\n",
       "        -7.52133731e-01, -7.50520544e-01, -1.00000000e+00,\n",
       "        -3.90126468e-01],\n",
       "       [-3.54210757e-01, -5.63433795e-02,  7.39348860e-02,\n",
       "        -3.28489073e-01, -4.49186428e-01, -8.38912471e-01,\n",
       "         7.17019134e-01, -9.34611158e-01,  1.94589581e-01,\n",
       "         2.07254594e-02,  6.39526681e-01, -1.00000000e+00,\n",
       "        -1.55163793e-01],\n",
       "       [ 5.40175917e-01,  1.59199181e+00,  1.43920150e+00,\n",
       "        -6.55122633e-01, -7.57547740e-01,  2.18438790e+00,\n",
       "        -4.10876133e-01, -6.61935436e-01,  3.10707306e-01,\n",
       "         1.94561944e+00,  1.66235972e+00,  0.00000000e+00,\n",
       "        -1.06925431e-01],\n",
       "       [ 8.25956775e-01, -8.01474941e-02, -2.01838454e-01,\n",
       "         1.10830756e+00,  7.73092789e-01, -3.82123862e-01,\n",
       "         1.40584089e+00, -1.06025743e+00, -9.51136768e-01,\n",
       "        -7.13272528e-01, -1.01799890e+00,  0.00000000e+00,\n",
       "         1.27324622e+01],\n",
       "       [ 1.63104903e-01, -1.88810463e-01, -1.95787905e-01,\n",
       "         9.01296269e-01,  2.83064582e-01, -2.73638415e-01,\n",
       "         2.72306143e+00,  4.10158748e-01,  2.21980268e-01,\n",
       "        -7.86484492e-01, -7.37275378e-02,  0.00000000e+00,\n",
       "         1.10676498e+01],\n",
       "       [ 4.38542362e-03, -9.97495148e-02, -1.05836815e-01,\n",
       "        -3.05212019e-01,  3.53876409e-01, -5.59900091e-01,\n",
       "         4.02819738e-02, -4.75901330e-02, -6.51428039e-01,\n",
       "        -1.68313496e-02, -1.51239978e-01,  0.00000000e+00,\n",
       "        -3.72426298e-01],\n",
       "       [ 6.34663646e-01,  2.47312533e-01,  9.64256928e-02,\n",
       "         7.48727805e-02,  5.18386950e-02, -2.58310843e-01,\n",
       "         2.33635448e-01, -1.69318643e-01,  5.70165237e-01,\n",
       "        -3.26498843e-01, -7.13658716e-01,  0.00000000e+00,\n",
       "         3.18326589e-01],\n",
       "       [ 3.72875047e-01,  4.45403027e-01,  8.21540288e-01,\n",
       "        -3.82977458e-01, -4.79211609e-01,  1.85189606e-01,\n",
       "        -6.24370594e-01,  5.83656711e-01, -4.46500044e-01,\n",
       "         5.82338978e-01, -4.39084404e-01,  0.00000000e+00,\n",
       "         6.39137055e-02],\n",
       "       [ 5.21199250e-01,  7.54169725e-01,  3.63871183e-01,\n",
       "        -6.07415083e-01, -6.41479392e-01, -1.07017098e-01,\n",
       "        -4.43101712e-02,  3.96659113e-01, -2.54339087e-01,\n",
       "         4.37895421e-01,  1.68385668e-01, -1.00000000e+00,\n",
       "         1.98882473e-01],\n",
       "       [ 3.48385539e-01,  1.54268051e+00,  1.78715358e+00,\n",
       "        -5.89045582e-01, -7.42605286e-01,  1.48667516e+00,\n",
       "        -1.04733132e-01,  3.16232409e-01, -1.14269103e-01,\n",
       "         1.58018370e+00,  1.36497226e+00, -1.00000000e+00,\n",
       "         1.37800167e+00],\n",
       "       [ 5.45515647e-01,  2.35963684e-01,  9.22109423e-02,\n",
       "         5.75360590e-01,  3.18125771e-01, -2.49992357e-01,\n",
       "         7.29103726e-01, -1.13264006e+00,  3.16834777e+00,\n",
       "        -6.02028491e-01, -8.35846314e-01,  0.00000000e+00,\n",
       "         2.68077353e+00],\n",
       "       [-4.55637458e-01, -2.22103744e-01, -1.71368751e-01,\n",
       "         1.07195951e-01,  8.10473077e-02, -1.04579864e-01,\n",
       "         2.25579053e-01,  4.52049065e-01, -4.58116429e-01,\n",
       "        -3.37780486e-01,  4.63387867e-01,  0.00000000e+00,\n",
       "         2.15144699e+00],\n",
       "       [ 4.02485853e-01,  6.67515357e-01,  5.34400170e-01,\n",
       "        -4.37075276e-02, -4.01285771e-01,  5.05095209e-01,\n",
       "        -6.04229607e-02,  7.60548193e-02, -8.15366127e-01,\n",
       "         3.96788180e-01,  1.03364479e-01, -1.00000000e+00,\n",
       "        -3.40010093e-01],\n",
       "       [-8.42757926e-01, -4.49196590e-01, -2.58798273e-01,\n",
       "         1.11193741e+00,  4.17931487e-01,  3.05425513e+00,\n",
       "         4.00402820e+00,  4.61099624e-01, -2.08469649e-03,\n",
       "        -7.83356810e-01, -1.12656236e-01, -1.00000000e+00,\n",
       "        -6.52654958e-01],\n",
       "       [-7.82323910e-01, -4.36708706e-01, -2.58475111e-01,\n",
       "         1.26733034e+00,  7.06925363e-01,  8.44405888e-01,\n",
       "         3.69385700e+00, -8.08582925e-01, -3.73688073e-01,\n",
       "        -1.05717995e+00, -3.71400457e-01, -1.00000000e+00,\n",
       "         2.25013065e-01],\n",
       "       [ 6.45659933e-01,  1.47749620e+00,  1.59119196e+00,\n",
       "        -5.66393186e-01, -7.15480299e-01,  4.84442287e-01,\n",
       "         1.61127895e-02,  2.44139640e-02,  7.92433480e-01,\n",
       "         1.12578733e+00,  8.48377337e-01,  0.00000000e+00,\n",
       "        -4.03989992e-01],\n",
       "       [-4.97881735e-01, -2.35452948e-01, -1.66427267e-01,\n",
       "         4.56488099e-03, -2.63005081e-02, -2.36202969e-01,\n",
       "         2.17522659e-01,  5.89875670e-02,  8.55241665e-01,\n",
       "        -1.98882523e-01, -7.72286561e-02, -1.00000000e+00,\n",
       "         8.92689435e-01],\n",
       "       [ 6.48404536e-01,  1.23983728e+00,  1.04359149e+00,\n",
       "        -2.33197962e-01, -7.39047899e-01,  1.23972536e+00,\n",
       "        -4.59214502e-01, -1.11116966e+00,  2.24810515e+00,\n",
       "         8.52745052e-01,  2.77969961e+00,  0.00000000e+00,\n",
       "         1.84898876e+00],\n",
       "       [ 9.90374706e-01,  1.45605219e+00,  1.51125583e+00,\n",
       "        -4.20826410e-01, -6.29676138e-01,  4.71560327e-01,\n",
       "        -4.47129909e-01,  6.01806165e-01, -3.20015696e-01,\n",
       "         6.99643302e-01,  4.15497804e-01,  0.00000000e+00,\n",
       "         1.21937739e+00],\n",
       "       [-2.51489679e-01,  1.65023262e-01,  9.56056523e-03,\n",
       "         1.62591106e-01, -9.38117753e-03,  1.98322236e-01,\n",
       "        -3.38368580e-01,  3.84726204e-01,  3.71952690e-01,\n",
       "        -2.89712273e-01,  6.66729602e-01,  0.00000000e+00,\n",
       "         1.29092158e+00],\n",
       "       [-8.27043849e-01, -4.09986930e-01, -2.00139202e-01,\n",
       "        -4.50659521e-01, -1.82128803e-01, -3.91056254e-01,\n",
       "        -9.66767372e-02,  2.10855633e-01,  2.78913733e-01,\n",
       "         2.89251377e-01,  2.61018594e-01,  0.00000000e+00,\n",
       "         9.98322428e-01],\n",
       "       [ 1.23412115e+00,  1.51794549e+00,  1.34715669e+00,\n",
       "        -5.92674867e-01, -5.96242229e-01,  8.09826002e-02,\n",
       "        -2.17522659e-01, -2.44139640e-02, -6.56004710e-01,\n",
       "         4.10385389e-01,  6.34916323e-01,  0.00000000e+00,\n",
       "         1.25614706e+00],\n",
       "       [-4.73119066e-01, -1.92833677e-01, -2.41635074e-02,\n",
       "         3.51495139e-01,  1.62283958e-01, -2.27572101e-01,\n",
       "        -4.18932528e-01, -7.60646559e-01, -2.11425466e-01,\n",
       "        -6.14400736e-02,  2.84679045e-01,  0.00000000e+00,\n",
       "        -1.56627628e-01],\n",
       "       [ 5.01447619e-01,  9.60261293e-01,  1.09977147e+00,\n",
       "        -5.47225688e-01, -4.55806245e-01,  1.11583750e+00,\n",
       "        -5.84088620e-01,  1.79179693e-01,  4.23669918e-01,\n",
       "         1.14722598e+00,  1.53399963e-01,  0.00000000e+00,\n",
       "         3.11287646e-01],\n",
       "       [ 6.43838201e-01,  1.44117582e+00,  1.73859899e+00,\n",
       "        -6.27232145e-01, -7.43431905e-01,  1.35853717e+00,\n",
       "        -2.21550856e-01,  3.06668162e-01, -1.11747169e-01,\n",
       "         2.75850190e+00,  9.72638583e-01,  0.00000000e+00,\n",
       "         1.65400332e-01],\n",
       "       [-2.26053070e-02,  5.29635628e-02, -9.56056523e-03,\n",
       "         4.00047610e-01,  2.17555254e-01, -3.70190227e-01,\n",
       "        -3.42396777e-01,  1.23701721e-01, -5.21749044e-02,\n",
       "        -2.98454420e-01, -4.29236522e-01,  0.00000000e+00,\n",
       "        -3.57715034e-01],\n",
       "       [-3.29734560e-01, -2.75851894e-01, -2.02930829e-01,\n",
       "        -1.01555961e-01,  3.93105168e-01, -6.01608351e-01,\n",
       "         1.36958711e-01,  1.50437073e-01,  2.43218339e-01,\n",
       "         7.49883452e-02, -3.90075059e-01,  0.00000000e+00,\n",
       "         1.50347065e-02],\n",
       "       [-3.30903969e-01, -3.39209368e-01, -2.53319704e-01,\n",
       "         1.06586578e+00,  4.76541476e-01,  8.30733995e-01,\n",
       "         3.21047331e+00, -1.18935540e+00,  3.31923607e+00,\n",
       "        -7.51937277e-01, -9.15991317e-01,  0.00000000e+00,\n",
       "        -6.52654958e-01]])"
      ]
     },
     "execution_count": 13,
     "metadata": {},
     "output_type": "execute_result"
    }
   ],
   "source": [
    "X_train"
   ]
  },
  {
   "cell_type": "code",
   "execution_count": 14,
   "id": "11c8f4d1",
   "metadata": {},
   "outputs": [],
   "source": [
    "# Create alternative dataset limited to top 5 features\n",
    "top_5_indices = list(indices)[:5]\n",
    "X_train_5_feat = X_train[:,top_5_indices]\n",
    "y_train_5_feat = y_train\n",
    "X_test_5_feat = X_test[:,top_5_indices]\n",
    "y_test_5_feat = y_test"
   ]
  },
  {
   "cell_type": "markdown",
   "id": "af3104cc",
   "metadata": {},
   "source": [
    "# Model 1: Neural Net"
   ]
  },
  {
   "cell_type": "code",
   "execution_count": 15,
   "id": "8fa3f379",
   "metadata": {},
   "outputs": [
    {
     "data": {
      "text/plain": [
       "<torch._C.Generator at 0x1f437d70ed0>"
      ]
     },
     "execution_count": 15,
     "metadata": {},
     "output_type": "execute_result"
    }
   ],
   "source": [
    "import torch\n",
    "import torch.nn as nn\n",
    "from torch.utils.data import TensorDataset\n",
    "from torch.utils.data import DataLoader\n",
    "torch.manual_seed(999)"
   ]
  },
  {
   "cell_type": "code",
   "execution_count": 16,
   "id": "2f2c8bc8",
   "metadata": {},
   "outputs": [],
   "source": [
    "# Create PyTorch dataset and dataloader\n",
    "batch_size = 1\n",
    "\n",
    "# Full feature dataset\n",
    "training_X = torch.FloatTensor(X_train)\n",
    "training_y = torch.FloatTensor(y_train.to_numpy())\n",
    "train_ds = TensorDataset(training_X, training_y)\n",
    "train_dl = DataLoader(train_ds, batch_size, shuffle=True)\n",
    "\n",
    "# 5 feature dataset\n",
    "training_X_5 = torch.FloatTensor(X_train_5_feat)\n",
    "training_y_5 = torch.FloatTensor(y_train_5_feat.to_numpy())\n",
    "train_ds_5 = TensorDataset(training_X_5, training_y_5)\n",
    "train_dl_5 = DataLoader(train_ds_5, batch_size, shuffle=True)"
   ]
  },
  {
   "cell_type": "code",
   "execution_count": 17,
   "id": "979cca5a",
   "metadata": {},
   "outputs": [],
   "source": [
    "# Create sequential neural network model\n",
    "\n",
    "# Implimentation decisions for using dropout (decision of rate, pairing with weight \n",
    "# regularization, and larger network) taken from https://bit.ly/3m8zYLE.\n",
    "\n",
    "model = nn.Sequential(\n",
    "    nn.Linear(13, 13),\n",
    "    nn.ReLU(),\n",
    "    nn.Dropout(p=0.5),\n",
    "    nn.Linear(13, 26),\n",
    "    nn.ReLU(),\n",
    "    nn.Dropout(p=0.7),\n",
    "    nn.Linear(26, 40),\n",
    "    nn.ReLU(),\n",
    "    nn.Dropout(p=0.7),\n",
    "    nn.Linear(40, 50),\n",
    "    nn.ReLU(),\n",
    "    nn.Linear(50, 1))\n",
    "\n",
    "model_5 = nn.Sequential(\n",
    "    nn.Linear(5, 10),\n",
    "    nn.ReLU(),\n",
    "    nn.Dropout(p=0.5),\n",
    "    nn.Linear(10, 22),\n",
    "    nn.ReLU(),\n",
    "    nn.Dropout(p=0.7),\n",
    "    nn.Linear(22, 35),\n",
    "    nn.ReLU(),\n",
    "    nn.Dropout(p=0.7),\n",
    "    nn.Linear(35, 50),\n",
    "    nn.ReLU(),\n",
    "    nn.Linear(50, 1))"
   ]
  },
  {
   "cell_type": "code",
   "execution_count": 18,
   "id": "8c309d1f",
   "metadata": {},
   "outputs": [],
   "source": [
    "# Define loss function and SGD optimizers\n",
    "L2_reg_lambda = 0.05\n",
    "loss_fn = nn.BCEWithLogitsLoss()\n",
    "optimizer = torch.optim.SGD(model.parameters(), lr=0.005, weight_decay = L2_reg_lambda)\n",
    "optimizer_5 = torch.optim.SGD(model_5.parameters(), lr=0.005, weight_decay = L2_reg_lambda)"
   ]
  },
  {
   "cell_type": "markdown",
   "id": "57196fb0",
   "metadata": {},
   "source": [
    "#### Train/test function"
   ]
  },
  {
   "cell_type": "code",
   "execution_count": 19,
   "id": "0b3b6979",
   "metadata": {},
   "outputs": [],
   "source": [
    "# Define training function\n",
    "# Idea for logging histories of loss an accuracies taken from:\n",
    "# Raschka, Liu, and Mirjalili - \"Machine Learning with PyTorch and Scikit-Learn\"\n",
    "\n",
    "def train(model, optim, num_epochs, epoch_log, train_dl, X_test, y_test):\n",
    "    # Loss and accuracy history lists\n",
    "    loss_train = [0] * num_epochs\n",
    "    acc_train = [0] * num_epochs\n",
    "    loss_valid = [0] * num_epochs\n",
    "    acc_valid = [0] * num_epochs\n",
    "\n",
    "    for epoch in range(num_epochs):\n",
    "        loss_log = 0\n",
    "        for x_batch, y_batch in train_dl:\n",
    "            #Train model\n",
    "            pred = model(x_batch)[:, 0]\n",
    "            loss = loss_fn(pred, y_batch)\n",
    "            loss.backward()\n",
    "            optim.step()\n",
    "            optim.zero_grad()\n",
    "            \n",
    "            # Update training history for batch\n",
    "            loss_train[epoch] += loss.item()\n",
    "            pred_correct = ((pred>=0.5).float() == y_batch).float()\n",
    "            acc_train[epoch] += pred_correct.mean()\n",
    "        \n",
    "        # Report training loss and accuracy histories for epoch\n",
    "        loss_train[epoch] /= len(train_dl)\n",
    "        acc_train[epoch] /= len(train_dl)\n",
    "        if (epoch + 1) % epoch_log == 0:\n",
    "            print(f\"Epoch {epoch + 1} loss :\", loss_train[epoch])\n",
    "        \n",
    "        # Report testing loss and accuracy histories for epoch\n",
    "        pred = model(X_test)[:, 0]\n",
    "        loss = loss_fn(pred, y_test)\n",
    "        loss_valid[epoch] = loss.item()\n",
    "        pred_correct = ((pred>=0.5).float() == y_test).float()\n",
    "        acc_valid[epoch] = pred_correct.mean()\n",
    "        \n",
    "    return loss_train, acc_train, loss_valid, acc_valid            "
   ]
  },
  {
   "cell_type": "markdown",
   "id": "18456e60",
   "metadata": {},
   "source": [
    "## NN evaluation and performance measures"
   ]
  },
  {
   "cell_type": "markdown",
   "id": "1ae08611",
   "metadata": {},
   "source": [
    "### Full feature training"
   ]
  },
  {
   "cell_type": "code",
   "execution_count": 20,
   "id": "78aabe01",
   "metadata": {},
   "outputs": [],
   "source": [
    "testing_X = torch.FloatTensor(X_test)\n",
    "testing_y = torch.FloatTensor(y_test.to_numpy())"
   ]
  },
  {
   "cell_type": "code",
   "execution_count": 21,
   "id": "6d1d2c33",
   "metadata": {
    "scrolled": true
   },
   "outputs": [
    {
     "name": "stdout",
     "output_type": "stream",
     "text": [
      "Epoch 25 loss : 0.49724139555080515\n",
      "Epoch 50 loss : 0.49124890807512644\n",
      "Epoch 75 loss : 0.4886653902562889\n",
      "Epoch 100 loss : 0.4909098804802508\n",
      "Epoch 125 loss : 0.49053350735355067\n"
     ]
    }
   ],
   "source": [
    "epochs = 125\n",
    "print_every = 25\n",
    "history = train(model, optimizer, epochs, print_every, train_dl, testing_X, testing_y)"
   ]
  },
  {
   "cell_type": "code",
   "execution_count": 22,
   "id": "0238c47a",
   "metadata": {},
   "outputs": [
    {
     "data": {
      "text/plain": [
       "Text(0.5, 0, 'Epochs')"
      ]
     },
     "execution_count": 22,
     "metadata": {},
     "output_type": "execute_result"
    },
    {
     "data": {
      "image/png": "[encoded data removed]",
      "text/plain": [
       "<Figure size 1152x288 with 2 Axes>"
      ]
     },
     "metadata": {
      "needs_background": "light"
     },
     "output_type": "display_data"
    }
   ],
   "source": [
    "# Create plots for loss and accuracy\n",
    "fig = plt.figure(figsize=(16, 4))\n",
    "ax = fig.add_subplot(1, 2, 1)\n",
    "plt.plot(history[0], lw=4)\n",
    "plt.plot(history[2], lw=4)\n",
    "plt.legend(['Train loss', 'Testing loss'], fontsize=15)\n",
    "ax.set_xlabel('Epochs', size=15)\n",
    "ax = fig.add_subplot(1, 2, 2)\n",
    "plt.plot(history[1], lw=4)\n",
    "plt.plot(history[3], lw=4)\n",
    "plt.legend(['Train acc.', 'Testing acc.'], fontsize=15)\n",
    "ax.set_xlabel('Epochs', size=15)"
   ]
  },
  {
   "cell_type": "code",
   "execution_count": 23,
   "id": "c3c69113",
   "metadata": {},
   "outputs": [
    {
     "name": "stdout",
     "output_type": "stream",
     "text": [
      "Test MSE:  0.37555739283561707\n"
     ]
    }
   ],
   "source": [
    "with torch.no_grad():\n",
    "    pred = model(testing_X)[:, 0]\n",
    "    loss = loss_fn(pred, testing_y)\n",
    "    print(f\"Test MSE: \", loss.item())"
   ]
  },
  {
   "cell_type": "code",
   "execution_count": 24,
   "id": "dcd68a01",
   "metadata": {},
   "outputs": [
    {
     "data": {
      "image/png": "[encoded data removed]",
      "text/plain": [
       "<Figure size 432x288 with 2 Axes>"
      ]
     },
     "metadata": {
      "needs_background": "light"
     },
     "output_type": "display_data"
    }
   ],
   "source": [
    "from sklearn.metrics import confusion_matrix, ConfusionMatrixDisplay\n",
    "with torch.no_grad():\n",
    "    y_pred = model(testing_X)[:, 0]\n",
    "    y_pred = (y_pred>=0.5).float()\n",
    "    cm = confusion_matrix(y_test, y_pred)\n",
    "disp = ConfusionMatrixDisplay(confusion_matrix=cm)\n",
    "disp.plot()\n",
    "plt.show()"
   ]
  },
  {
   "cell_type": "markdown",
   "id": "285d2f18",
   "metadata": {},
   "source": [
    "### 5-feature dataset training"
   ]
  },
  {
   "cell_type": "code",
   "execution_count": 25,
   "id": "b3a6a10d",
   "metadata": {},
   "outputs": [],
   "source": [
    "testing_X_5 = torch.FloatTensor(X_test_5_feat)\n",
    "testing_y_5 = torch.FloatTensor(y_test_5_feat.to_numpy())"
   ]
  },
  {
   "cell_type": "code",
   "execution_count": 26,
   "id": "33e79cb8",
   "metadata": {},
   "outputs": [
    {
     "name": "stdout",
     "output_type": "stream",
     "text": [
      "Epoch 25 loss : 0.5025241564254503\n",
      "Epoch 50 loss : 0.48102582427295476\n",
      "Epoch 75 loss : 0.4798644813331398\n",
      "Epoch 100 loss : 0.48895692986411016\n",
      "Epoch 125 loss : 0.485384496885377\n"
     ]
    }
   ],
   "source": [
    "epochs = 125\n",
    "print_every = 25\n",
    "history = train(model_5, optimizer_5, epochs, print_every, train_dl_5, testing_X_5, testing_y_5)"
   ]
  },
  {
   "cell_type": "code",
   "execution_count": 27,
   "id": "73e7f91a",
   "metadata": {},
   "outputs": [
    {
     "data": {
      "text/plain": [
       "Text(0.5, 0, 'Epochs')"
      ]
     },
     "execution_count": 27,
     "metadata": {},
     "output_type": "execute_result"
    },
    {
     "data": {
      "image/png": "[encoded data removed]",
      "text/plain": [
       "<Figure size 1152x288 with 2 Axes>"
      ]
     },
     "metadata": {
      "needs_background": "light"
     },
     "output_type": "display_data"
    }
   ],
   "source": [
    "# Create plots for loss and accuracy\n",
    "fig = plt.figure(figsize=(16, 4))\n",
    "ax = fig.add_subplot(1, 2, 1)\n",
    "plt.plot(history[0], lw=4)\n",
    "plt.plot(history[2], lw=4)\n",
    "plt.legend(['Train loss', 'Testing loss'], fontsize=15)\n",
    "ax.set_xlabel('Epochs', size=15)\n",
    "ax = fig.add_subplot(1, 2, 2)\n",
    "plt.plot(history[1], lw=4)\n",
    "plt.plot(history[3], lw=4)\n",
    "plt.legend(['Train acc.', 'Testing acc.'], fontsize=15)\n",
    "ax.set_xlabel('Epochs', size=15)"
   ]
  },
  {
   "cell_type": "code",
   "execution_count": 28,
   "id": "74a216f7",
   "metadata": {},
   "outputs": [
    {
     "name": "stdout",
     "output_type": "stream",
     "text": [
      "Test MSE:  0.3819330334663391\n"
     ]
    }
   ],
   "source": [
    "with torch.no_grad():\n",
    "    pred = model_5(testing_X_5)[:, 0]\n",
    "    loss = loss_fn(pred, testing_y_5)\n",
    "    print(f\"Test MSE: \", loss.item())"
   ]
  },
  {
   "cell_type": "code",
   "execution_count": 29,
   "id": "8addd29b",
   "metadata": {},
   "outputs": [
    {
     "data": {
      "image/png": "[encoded data removed]",
      "text/plain": [
       "<Figure size 432x288 with 2 Axes>"
      ]
     },
     "metadata": {
      "needs_background": "light"
     },
     "output_type": "display_data"
    }
   ],
   "source": [
    "from sklearn.metrics import confusion_matrix, ConfusionMatrixDisplay\n",
    "with torch.no_grad():\n",
    "    y_pred = model_5(testing_X_5)[:, 0]\n",
    "    y_pred = (y_pred>=0.5).float()\n",
    "    cm = confusion_matrix(y_test_5_feat, y_pred)\n",
    "disp = ConfusionMatrixDisplay(confusion_matrix=cm)\n",
    "disp.plot()\n",
    "plt.show()"
   ]
  },
  {
   "cell_type": "markdown",
   "id": "121e6f77",
   "metadata": {},
   "source": [
    "# Model 2: Linear SVM"
   ]
  },
  {
   "cell_type": "code",
   "execution_count": 30,
   "id": "bc5cf846",
   "metadata": {},
   "outputs": [],
   "source": [
    "from sklearn.svm import LinearSVC\n",
    "from sklearn.calibration import CalibratedClassifierCV"
   ]
  },
  {
   "cell_type": "code",
   "execution_count": 31,
   "id": "5a149e1f",
   "metadata": {},
   "outputs": [
    {
     "data": {
      "text/plain": [
       "LinearSVC(C=0.7, random_state=999)"
      ]
     },
     "execution_count": 31,
     "metadata": {},
     "output_type": "execute_result"
    }
   ],
   "source": [
    "rndm_state = 999\n",
    "svm = LinearSVC(C=0.7, random_state=rndm_state)\n",
    "svm.fit(X_train, y_train)"
   ]
  },
  {
   "cell_type": "code",
   "execution_count": 32,
   "id": "ee287fd5",
   "metadata": {},
   "outputs": [
    {
     "name": "stdout",
     "output_type": "stream",
     "text": [
      "0.8571428571428571\n"
     ]
    }
   ],
   "source": [
    "print(svm.score(X_test, y_test))"
   ]
  },
  {
   "cell_type": "code",
   "execution_count": 33,
   "id": "0c048fad",
   "metadata": {},
   "outputs": [
    {
     "data": {
      "image/png": "[encoded data removed]",
      "text/plain": [
       "<Figure size 432x288 with 2 Axes>"
      ]
     },
     "metadata": {
      "needs_background": "light"
     },
     "output_type": "display_data"
    }
   ],
   "source": [
    "# Calculate Linear SVM predicted probabilities\n",
    "clf = CalibratedClassifierCV(svm)\n",
    "clf.fit(X_train, y_train)\n",
    "y_probs = clf.predict_proba(X_test)\n",
    "\n",
    "# Calculate confusion matrix\n",
    "y_pred = (y_probs[:,1]>=0.5).astype(int)\n",
    "cm = confusion_matrix(y_test, y_pred)\n",
    "disp = ConfusionMatrixDisplay(confusion_matrix=cm)\n",
    "disp.plot()\n",
    "plt.show()"
   ]
  },
  {
   "cell_type": "markdown",
   "id": "905ab815",
   "metadata": {},
   "source": [
    "# Model 3: K-NN"
   ]
  },
  {
   "cell_type": "code",
   "execution_count": null,
   "id": "7aaca763",
   "metadata": {},
   "outputs": [],
   "source": []
  },
  {
   "cell_type": "code",
   "execution_count": null,
   "id": "abe229c4",
   "metadata": {},
   "outputs": [],
   "source": []
  },
  {
   "cell_type": "code",
   "execution_count": 34,
   "id": "c0b85570",
   "metadata": {},
   "outputs": [
    {
     "data": {
      "text/plain": [
       "13"
      ]
     },
     "execution_count": 34,
     "metadata": {},
     "output_type": "execute_result"
    }
   ],
   "source": [
    "len(feat_labels)"
   ]
  },
  {
   "cell_type": "code",
   "execution_count": 35,
   "id": "a94bacf7",
   "metadata": {},
   "outputs": [
    {
     "ename": "NameError",
     "evalue": "name 'precision_recall_curve' is not defined",
     "output_type": "error",
     "traceback": [
      "\u001b[1;31m---------------------------------------------------------------------------\u001b[0m",
      "\u001b[1;31mNameError\u001b[0m                                 Traceback (most recent call last)",
      "Input \u001b[1;32mIn [35]\u001b[0m, in \u001b[0;36m<cell line: 2>\u001b[1;34m()\u001b[0m\n\u001b[0;32m      1\u001b[0m \u001b[38;5;66;03m# NN precision-recall curve\u001b[39;00m\n\u001b[1;32m----> 2\u001b[0m precision, recall, _ \u001b[38;5;241m=\u001b[39m \u001b[43mprecision_recall_curve\u001b[49m(y_test, y_pred)\n\u001b[0;32m      3\u001b[0m plt\u001b[38;5;241m.\u001b[39mplot(recall, precision)\n\u001b[0;32m      4\u001b[0m plt\u001b[38;5;241m.\u001b[39mxlabel(\u001b[38;5;124m'\u001b[39m\u001b[38;5;124mRecall\u001b[39m\u001b[38;5;124m'\u001b[39m)\n",
      "\u001b[1;31mNameError\u001b[0m: name 'precision_recall_curve' is not defined"
     ]
    }
   ],
   "source": [
    "# NN precision-recall curve\n",
    "precision, recall, _ = precision_recall_curve(y_test, y_pred)\n",
    "plt.plot(recall, precision)\n",
    "plt.xlabel('Recall')\n",
    "plt.ylabel('Precision')\n",
    "plt.show()"
   ]
  }
 ],
 "metadata": {
  "kernelspec": {
   "display_name": "Python 3 (ipykernel)",
   "language": "python",
   "name": "python3"
  },
  "language_info": {
   "codemirror_mode": {
    "name": "ipython",
    "version": 3
   },
   "file_extension": ".py",
   "mimetype": "text/x-python",
   "name": "python",
   "nbconvert_exporter": "python",
   "pygments_lexer": "ipython3",
   "version": "3.8.13"
  }
 },
 "nbformat": 4,
 "nbformat_minor": 5
}
