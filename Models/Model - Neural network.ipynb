{
 "cells": [
  {
   "cell_type": "markdown",
   "id": "962c000c",
   "metadata": {},
   "source": [
    "<h1><center>PREDICTING GENTRIFICATION IN CHICAGO</center></h1>"
   ]
  },
  {
   "cell_type": "markdown",
   "id": "432203ff",
   "metadata": {},
   "source": [
    "# Model Testing"
   ]
  },
  {
   "cell_type": "markdown",
   "id": "c1a2f5db",
   "metadata": {},
   "source": [
    "### Loading of data:"
   ]
  },
  {
   "cell_type": "code",
   "execution_count": 50,
   "id": "61a39769",
   "metadata": {},
   "outputs": [],
   "source": [
    "import pandas as pd\n",
    "import numpy as np"
   ]
  },
  {
   "cell_type": "code",
   "execution_count": 2,
   "id": "1507e497",
   "metadata": {},
   "outputs": [],
   "source": [
    "x_vals = pd.read_csv(\"../Data/features.csv\", header = 0, index_col = 0)\n",
    "y_vals = pd.read_csv(\"../Data/Data Determine Y/Zipcode_Yvalues.csv\", header = 0, index_col = 0)"
   ]
  },
  {
   "cell_type": "code",
   "execution_count": 3,
   "id": "c654f747",
   "metadata": {},
   "outputs": [],
   "source": [
    "y_vals['Zipcode'] = y_vals['Zipcode'].astype('int32')\n",
    "y_vals = y_vals.rename(columns={'Zipcode': 'zip', 'Gentrified2020':2012})\n",
    "y_vals = pd.melt(y_vals, id_vars=['zip'], value_vars=[2012], var_name='year')"
   ]
  },
  {
   "cell_type": "code",
   "execution_count": 4,
   "id": "30452512",
   "metadata": {},
   "outputs": [],
   "source": [
    "# Merge datasets and clean data\n",
    "df = x_vals[x_vals['year'] == 2012].merge(y_vals, how='left', on=['zip', 'year'])\n",
    "df = df.dropna(axis=1)\n",
    "df = df.iloc[:,2:]\n",
    "\n",
    "# Change percentages to percentage format\n",
    "df.college = df.college * 0.01\n",
    "df.non_hip_white = df.non_hip_white * 0.01\n",
    "df.vacancy = df.vacancy * 0.01\n",
    "df.eviction_rate = df.eviction_rate * 0.01"
   ]
  },
  {
   "cell_type": "code",
   "execution_count": 5,
   "id": "542b7677",
   "metadata": {
    "scrolled": true
   },
   "outputs": [],
   "source": [
    "# Define features and labels\n",
    "X = df.iloc[:, :13]\n",
    "y = df.iloc[:, 13]"
   ]
  },
  {
   "cell_type": "code",
   "execution_count": 71,
   "id": "859eaa29",
   "metadata": {
    "scrolled": false
   },
   "outputs": [
    {
     "data": {
      "text/html": [
       "<div>\n",
       "<style scoped>\n",
       "    .dataframe tbody tr th:only-of-type {\n",
       "        vertical-align: middle;\n",
       "    }\n",
       "\n",
       "    .dataframe tbody tr th {\n",
       "        vertical-align: top;\n",
       "    }\n",
       "\n",
       "    .dataframe thead th {\n",
       "        text-align: right;\n",
       "    }\n",
       "</style>\n",
       "<table border=\"1\" class=\"dataframe\">\n",
       "  <thead>\n",
       "    <tr style=\"text-align: right;\">\n",
       "      <th></th>\n",
       "      <th>property_crime</th>\n",
       "      <th>violent_crime</th>\n",
       "      <th>homicide</th>\n",
       "      <th>college</th>\n",
       "      <th>non_hip_white</th>\n",
       "      <th>vacancy</th>\n",
       "      <th>med_rent</th>\n",
       "      <th>perc_under_18</th>\n",
       "      <th>perc_over_65</th>\n",
       "      <th>unemp_rate</th>\n",
       "      <th>eviction_rate</th>\n",
       "      <th>gardens</th>\n",
       "      <th>park_area</th>\n",
       "    </tr>\n",
       "  </thead>\n",
       "  <tbody>\n",
       "    <tr>\n",
       "      <th>count</th>\n",
       "      <td>58.000000</td>\n",
       "      <td>58.000000</td>\n",
       "      <td>58.000000</td>\n",
       "      <td>58.000000</td>\n",
       "      <td>58.000000</td>\n",
       "      <td>58.000000</td>\n",
       "      <td>58.000000</td>\n",
       "      <td>58.000000</td>\n",
       "      <td>58.000000</td>\n",
       "      <td>58.000000</td>\n",
       "      <td>58.000000</td>\n",
       "      <td>58.000000</td>\n",
       "      <td>58.000000</td>\n",
       "    </tr>\n",
       "    <tr>\n",
       "      <th>mean</th>\n",
       "      <td>10481.528914</td>\n",
       "      <td>2717.639266</td>\n",
       "      <td>40.382026</td>\n",
       "      <td>0.395242</td>\n",
       "      <td>0.394033</td>\n",
       "      <td>0.147250</td>\n",
       "      <td>1060.017241</td>\n",
       "      <td>0.187463</td>\n",
       "      <td>0.021378</td>\n",
       "      <td>0.128764</td>\n",
       "      <td>0.018384</td>\n",
       "      <td>0.724138</td>\n",
       "      <td>14.509855</td>\n",
       "    </tr>\n",
       "    <tr>\n",
       "      <th>std</th>\n",
       "      <td>6471.561689</td>\n",
       "      <td>2662.755466</td>\n",
       "      <td>47.924665</td>\n",
       "      <td>0.265429</td>\n",
       "      <td>0.289354</td>\n",
       "      <td>0.070940</td>\n",
       "      <td>317.502838</td>\n",
       "      <td>0.079118</td>\n",
       "      <td>0.015115</td>\n",
       "      <td>0.071903</td>\n",
       "      <td>0.010298</td>\n",
       "      <td>0.450851</td>\n",
       "      <td>25.011043</td>\n",
       "    </tr>\n",
       "    <tr>\n",
       "      <th>min</th>\n",
       "      <td>809.693400</td>\n",
       "      <td>58.914900</td>\n",
       "      <td>0.000000</td>\n",
       "      <td>0.060547</td>\n",
       "      <td>0.005805</td>\n",
       "      <td>0.053519</td>\n",
       "      <td>690.000000</td>\n",
       "      <td>0.028037</td>\n",
       "      <td>0.003782</td>\n",
       "      <td>0.020738</td>\n",
       "      <td>0.003943</td>\n",
       "      <td>0.000000</td>\n",
       "      <td>0.000000</td>\n",
       "    </tr>\n",
       "    <tr>\n",
       "      <th>25%</th>\n",
       "      <td>5074.829200</td>\n",
       "      <td>711.849500</td>\n",
       "      <td>4.158100</td>\n",
       "      <td>0.166370</td>\n",
       "      <td>0.097274</td>\n",
       "      <td>0.094473</td>\n",
       "      <td>861.250000</td>\n",
       "      <td>0.117615</td>\n",
       "      <td>0.011837</td>\n",
       "      <td>0.082117</td>\n",
       "      <td>0.011077</td>\n",
       "      <td>0.000000</td>\n",
       "      <td>3.381782</td>\n",
       "    </tr>\n",
       "    <tr>\n",
       "      <th>50%</th>\n",
       "      <td>9929.516900</td>\n",
       "      <td>1640.182700</td>\n",
       "      <td>17.277850</td>\n",
       "      <td>0.344956</td>\n",
       "      <td>0.408271</td>\n",
       "      <td>0.125757</td>\n",
       "      <td>929.000000</td>\n",
       "      <td>0.213305</td>\n",
       "      <td>0.016862</td>\n",
       "      <td>0.110585</td>\n",
       "      <td>0.016435</td>\n",
       "      <td>1.000000</td>\n",
       "      <td>6.429110</td>\n",
       "    </tr>\n",
       "    <tr>\n",
       "      <th>75%</th>\n",
       "      <td>15524.720475</td>\n",
       "      <td>4182.333550</td>\n",
       "      <td>70.069475</td>\n",
       "      <td>0.600502</td>\n",
       "      <td>0.625932</td>\n",
       "      <td>0.180582</td>\n",
       "      <td>1109.500000</td>\n",
       "      <td>0.257073</td>\n",
       "      <td>0.024744</td>\n",
       "      <td>0.167104</td>\n",
       "      <td>0.023348</td>\n",
       "      <td>1.000000</td>\n",
       "      <td>13.232485</td>\n",
       "    </tr>\n",
       "    <tr>\n",
       "      <th>max</th>\n",
       "      <td>23338.244400</td>\n",
       "      <td>8625.991900</td>\n",
       "      <td>141.520900</td>\n",
       "      <td>0.895145</td>\n",
       "      <td>0.867348</td>\n",
       "      <td>0.388759</td>\n",
       "      <td>1923.000000</td>\n",
       "      <td>0.297232</td>\n",
       "      <td>0.069227</td>\n",
       "      <td>0.345020</td>\n",
       "      <td>0.050545</td>\n",
       "      <td>1.000000</td>\n",
       "      <td>131.852813</td>\n",
       "    </tr>\n",
       "  </tbody>\n",
       "</table>\n",
       "</div>"
      ],
      "text/plain": [
       "       property_crime  violent_crime    homicide    college  non_hip_white  \\\n",
       "count       58.000000      58.000000   58.000000  58.000000      58.000000   \n",
       "mean     10481.528914    2717.639266   40.382026   0.395242       0.394033   \n",
       "std       6471.561689    2662.755466   47.924665   0.265429       0.289354   \n",
       "min        809.693400      58.914900    0.000000   0.060547       0.005805   \n",
       "25%       5074.829200     711.849500    4.158100   0.166370       0.097274   \n",
       "50%       9929.516900    1640.182700   17.277850   0.344956       0.408271   \n",
       "75%      15524.720475    4182.333550   70.069475   0.600502       0.625932   \n",
       "max      23338.244400    8625.991900  141.520900   0.895145       0.867348   \n",
       "\n",
       "         vacancy     med_rent  perc_under_18  perc_over_65  unemp_rate  \\\n",
       "count  58.000000    58.000000      58.000000     58.000000   58.000000   \n",
       "mean    0.147250  1060.017241       0.187463      0.021378    0.128764   \n",
       "std     0.070940   317.502838       0.079118      0.015115    0.071903   \n",
       "min     0.053519   690.000000       0.028037      0.003782    0.020738   \n",
       "25%     0.094473   861.250000       0.117615      0.011837    0.082117   \n",
       "50%     0.125757   929.000000       0.213305      0.016862    0.110585   \n",
       "75%     0.180582  1109.500000       0.257073      0.024744    0.167104   \n",
       "max     0.388759  1923.000000       0.297232      0.069227    0.345020   \n",
       "\n",
       "       eviction_rate    gardens   park_area  \n",
       "count      58.000000  58.000000   58.000000  \n",
       "mean        0.018384   0.724138   14.509855  \n",
       "std         0.010298   0.450851   25.011043  \n",
       "min         0.003943   0.000000    0.000000  \n",
       "25%         0.011077   0.000000    3.381782  \n",
       "50%         0.016435   1.000000    6.429110  \n",
       "75%         0.023348   1.000000   13.232485  \n",
       "max         0.050545   1.000000  131.852813  "
      ]
     },
     "execution_count": 71,
     "metadata": {},
     "output_type": "execute_result"
    }
   ],
   "source": [
    "# Feature variable statistics after cleaning\n",
    "X.describe()"
   ]
  },
  {
   "cell_type": "code",
   "execution_count": 7,
   "id": "fb927de7",
   "metadata": {},
   "outputs": [
    {
     "data": {
      "text/plain": [
       "array([0, 1], dtype=int64)"
      ]
     },
     "execution_count": 7,
     "metadata": {},
     "output_type": "execute_result"
    }
   ],
   "source": [
    "# Labels\n",
    "y.unique()"
   ]
  },
  {
   "cell_type": "markdown",
   "id": "a5e32f37",
   "metadata": {},
   "source": [
    "### Data pre-processing:"
   ]
  },
  {
   "cell_type": "code",
   "execution_count": 8,
   "id": "95819c29",
   "metadata": {},
   "outputs": [],
   "source": [
    "import sklearn\n",
    "import sklearn.model_selection\n",
    "from sklearn.preprocessing import RobustScaler"
   ]
  },
  {
   "cell_type": "code",
   "execution_count": 9,
   "id": "4702f091",
   "metadata": {},
   "outputs": [],
   "source": [
    "# Scale features\n",
    "scaler = RobustScaler()\n",
    "X_scaled = scaler.fit_transform(X)"
   ]
  },
  {
   "cell_type": "code",
   "execution_count": 10,
   "id": "7bcb8d59",
   "metadata": {},
   "outputs": [],
   "source": [
    "# Split into train and test sets\n",
    "rndm_state = 999\n",
    "X_train, X_test, y_train, y_test = sklearn.model_selection.train_test_split(\n",
    "                                    X_scaled, y,\n",
    "                                    train_size=0.65,\n",
    "                                    random_state=rndm_state)"
   ]
  },
  {
   "cell_type": "markdown",
   "id": "aa923742",
   "metadata": {},
   "source": [
    "# Feature Importance"
   ]
  },
  {
   "cell_type": "code",
   "execution_count": 73,
   "id": "357e8afd",
   "metadata": {},
   "outputs": [
    {
     "data": {
      "image/png": "[encoded data removed]",
      "text/plain": [
       "<Figure size 432x288 with 1 Axes>"
      ]
     },
     "metadata": {
      "needs_background": "light"
     },
     "output_type": "display_data"
    }
   ],
   "source": [
    "#### Determine feature importance\n",
    "from sklearn.ensemble import RandomForestClassifier\n",
    "rndm_state = 999\n",
    "feat_labels = X.columns[0:]\n",
    "forest = RandomForestClassifier(n_estimators=50, \n",
    "                                max_depth=2, \n",
    "                                random_state=rndm_state)\n",
    "forest.fit(X_train, y_train)\n",
    "importances = forest.feature_importances_\n",
    "indices = np.argsort(importances)[::-1]\n",
    "\n",
    "# Plot of feature importance taken from:\n",
    "# Raschka, Liu, and Mirjalili - \"Machine Learning with PyTorch and Scikit-Learn\"\n",
    "plt.title('Feature importance')\n",
    "plt.bar(range(X_train.shape[1]),\n",
    "       importances[indices],\n",
    "       align = 'center')\n",
    "plt.xticks(range(X_train.shape[1]),\n",
    "           feat_labels[indices], \n",
    "           rotation=90)\n",
    "plt.xlim([-1, X_train.shape[1]])\n",
    "plt.show()"
   ]
  },
  {
   "cell_type": "markdown",
   "id": "af3104cc",
   "metadata": {},
   "source": [
    "# Model 1: Neural Net"
   ]
  },
  {
   "cell_type": "code",
   "execution_count": 11,
   "id": "8fa3f379",
   "metadata": {},
   "outputs": [
    {
     "data": {
      "text/plain": [
       "<torch._C.Generator at 0x204384fc570>"
      ]
     },
     "execution_count": 11,
     "metadata": {},
     "output_type": "execute_result"
    }
   ],
   "source": [
    "import torch\n",
    "import torch.nn as nn\n",
    "from torch.utils.data import TensorDataset\n",
    "from torch.utils.data import DataLoader\n",
    "torch.manual_seed(999)"
   ]
  },
  {
   "cell_type": "code",
   "execution_count": 12,
   "id": "2f2c8bc8",
   "metadata": {},
   "outputs": [],
   "source": [
    "# Create PyTorch dataset and dataloader\n",
    "training_X = torch.FloatTensor(X_train)\n",
    "training_y = torch.FloatTensor(y_train.to_numpy())\n",
    "train_ds = TensorDataset(training_X, training_y)\n",
    "batch_size = 1\n",
    "train_dl = DataLoader(train_ds, batch_size, shuffle=True)"
   ]
  },
  {
   "cell_type": "code",
   "execution_count": 13,
   "id": "979cca5a",
   "metadata": {},
   "outputs": [],
   "source": [
    "# Create sequential neural network model\n",
    "\n",
    "# Implimentation decisions for using dropout (decision of rate, pairing with weight \n",
    "# regularization, and larger network) taken from https://bit.ly/3m8zYLE.\n",
    "\n",
    "model = nn.Sequential(\n",
    "    nn.Linear(13, 13),\n",
    "    nn.ReLU(),\n",
    "    nn.Dropout(p=0.5),\n",
    "    nn.Linear(13, 26),\n",
    "    nn.ReLU(),\n",
    "    nn.Dropout(p=0.7),\n",
    "    nn.Linear(26, 40),\n",
    "    nn.ReLU(),\n",
    "    nn.Dropout(p=0.7),\n",
    "    nn.Linear(40, 50),\n",
    "    nn.ReLU(),\n",
    "    nn.Linear(50, 1))"
   ]
  },
  {
   "cell_type": "code",
   "execution_count": 14,
   "id": "8c309d1f",
   "metadata": {},
   "outputs": [],
   "source": [
    "# Define loss function and SGD optimizer\n",
    "L2_reg_lambda = 0.05\n",
    "loss_fn = nn.BCEWithLogitsLoss()\n",
    "optimizer = torch.optim.SGD(model.parameters(), lr=0.005, weight_decay = L2_reg_lambda)"
   ]
  },
  {
   "cell_type": "markdown",
   "id": "a474b2f8",
   "metadata": {},
   "source": [
    "#### Model training and testing"
   ]
  },
  {
   "cell_type": "code",
   "execution_count": 15,
   "id": "0b3b6979",
   "metadata": {},
   "outputs": [],
   "source": [
    "# Define training function\n",
    "# Idea for logging histories of loss an accuracies taken from:\n",
    "# Raschka, Liu, and Mirjalili - \"Machine Learning with PyTorch and Scikit-Learn\"\n",
    "\n",
    "def train(model, num_epochs, epoch_log, train_dl, X_test, y_test):\n",
    "    # Loss and accuracy history lists\n",
    "    loss_train = [0] * num_epochs\n",
    "    acc_train = [0] * num_epochs\n",
    "    loss_valid = [0] * num_epochs\n",
    "    acc_valid = [0] * num_epochs\n",
    "\n",
    "    for epoch in range(num_epochs):\n",
    "        loss_log = 0\n",
    "        for x_batch, y_batch in train_dl:\n",
    "            #Train model\n",
    "            pred = model(x_batch)[:, 0]\n",
    "            loss = loss_fn(pred, y_batch)\n",
    "            loss.backward()\n",
    "            optimizer.step()\n",
    "            optimizer.zero_grad()\n",
    "            \n",
    "            # Update training history for batch\n",
    "            loss_train[epoch] += loss.item()\n",
    "            pred_correct = ((pred>=0.5).float() == y_batch).float()\n",
    "            acc_train[epoch] += pred_correct.mean()\n",
    "        \n",
    "        # Report training loss and accuracy histories for epoch\n",
    "        loss_train[epoch] /= len(train_dl)\n",
    "        acc_train[epoch] /= len(train_dl)\n",
    "        if (epoch + 1) % epoch_log == 0:\n",
    "            print(f\"Epoch {epoch + 1} loss :\", loss_train[epoch])\n",
    "        \n",
    "        # Report testing loss and accuracy histories for epoch\n",
    "        pred = model(X_test)[:, 0]\n",
    "        loss = loss_fn(pred, y_test)\n",
    "        loss_valid[epoch] = loss.item()\n",
    "        pred_correct = ((pred>=0.5).float() == y_test).float()\n",
    "        acc_valid[epoch] = pred_correct.mean()\n",
    "        \n",
    "    return loss_train, acc_train, loss_valid, acc_valid            "
   ]
  },
  {
   "cell_type": "markdown",
   "id": "1ae08611",
   "metadata": {},
   "source": []
  },
  {
   "cell_type": "code",
   "execution_count": 17,
   "id": "78aabe01",
   "metadata": {},
   "outputs": [],
   "source": [
    "testing_X = torch.FloatTensor(X_test)\n",
    "testing_y = torch.FloatTensor(y_test.to_numpy())"
   ]
  },
  {
   "cell_type": "code",
   "execution_count": 18,
   "id": "6d1d2c33",
   "metadata": {
    "scrolled": true
   },
   "outputs": [
    {
     "name": "stdout",
     "output_type": "stream",
     "text": [
      "Epoch 25 loss : 0.49463257354659\n",
      "Epoch 50 loss : 0.4908491457636292\n",
      "Epoch 75 loss : 0.4875046127551311\n",
      "Epoch 100 loss : 0.4912158983784753\n",
      "Epoch 125 loss : 0.4896974168919228\n"
     ]
    }
   ],
   "source": [
    "epochs = 125\n",
    "print_every = 25\n",
    "history = train(model, epochs, print_every, train_dl, testing_X, testing_y)"
   ]
  },
  {
   "cell_type": "markdown",
   "id": "3f7f7670",
   "metadata": {},
   "source": [
    "#### Model evaluation and performance measures"
   ]
  },
  {
   "cell_type": "code",
   "execution_count": 74,
   "id": "e941bd7b",
   "metadata": {},
   "outputs": [],
   "source": [
    "import matplotlib.pyplot as plt"
   ]
  },
  {
   "cell_type": "code",
   "execution_count": 19,
   "id": "642b4264",
   "metadata": {
    "scrolled": true
   },
   "outputs": [
    {
     "data": {
      "text/plain": [
       "Text(0.5, 0, 'Epochs')"
      ]
     },
     "execution_count": 19,
     "metadata": {},
     "output_type": "execute_result"
    },
    {
     "data": {
      "image/png": "[encoded data removed]",
      "text/plain": [
       "<Figure size 1152x288 with 2 Axes>"
      ]
     },
     "metadata": {
      "needs_background": "light"
     },
     "output_type": "display_data"
    }
   ],
   "source": [
    "# Create plots for loss and accuracy\n",
    "fig = plt.figure(figsize=(16, 4))\n",
    "ax = fig.add_subplot(1, 2, 1)\n",
    "plt.plot(history[0], lw=4)\n",
    "plt.plot(history[2], lw=4)\n",
    "plt.legend(['Train loss', 'Testing loss'], fontsize=15)\n",
    "ax.set_xlabel('Epochs', size=15)\n",
    "ax = fig.add_subplot(1, 2, 2)\n",
    "plt.plot(history[1], lw=4)\n",
    "plt.plot(history[3], lw=4)\n",
    "plt.legend(['Train acc.', 'Testing acc.'], fontsize=15)\n",
    "ax.set_xlabel('Epochs', size=15)"
   ]
  },
  {
   "cell_type": "code",
   "execution_count": 20,
   "id": "91f54acd",
   "metadata": {},
   "outputs": [
    {
     "name": "stdout",
     "output_type": "stream",
     "text": [
      "Test MSE:  0.3774506747722626\n"
     ]
    }
   ],
   "source": [
    "with torch.no_grad():\n",
    "    pred = model(testing_X)[:, 0]\n",
    "    loss = loss_fn(pred, testing_y)\n",
    "    print(f\"Test MSE: \", loss.item())"
   ]
  },
  {
   "cell_type": "code",
   "execution_count": 59,
   "id": "1c6c2e78",
   "metadata": {},
   "outputs": [
    {
     "data": {
      "image/png": "[encoded data removed]",
      "text/plain": [
       "<Figure size 432x288 with 2 Axes>"
      ]
     },
     "metadata": {
      "needs_background": "light"
     },
     "output_type": "display_data"
    }
   ],
   "source": [
    "from sklearn.metrics import confusion_matrix, ConfusionMatrixDisplay\n",
    "with torch.no_grad():\n",
    "    y_pred = model(testing_X)[:, 0]\n",
    "    y_pred = (y_pred>=0.5).float()\n",
    "    cm = confusion_matrix(y_test, y_pred)\n",
    "disp = ConfusionMatrixDisplay(confusion_matrix=cm)\n",
    "disp.plot()\n",
    "plt.show()"
   ]
  },
  {
   "cell_type": "markdown",
   "id": "121e6f77",
   "metadata": {},
   "source": [
    "# Model 2: Linear SVM"
   ]
  },
  {
   "cell_type": "code",
   "execution_count": 35,
   "id": "bc5cf846",
   "metadata": {},
   "outputs": [],
   "source": [
    "from sklearn.svm import LinearSVC\n",
    "from sklearn.calibration import CalibratedClassifierCV"
   ]
  },
  {
   "cell_type": "code",
   "execution_count": 36,
   "id": "5a149e1f",
   "metadata": {},
   "outputs": [
    {
     "data": {
      "text/plain": [
       "LinearSVC(C=0.7, random_state=999)"
      ]
     },
     "execution_count": 36,
     "metadata": {},
     "output_type": "execute_result"
    }
   ],
   "source": [
    "rndm_state = 999\n",
    "svm = LinearSVC(C=0.7, random_state=rndm_state)\n",
    "svm.fit(X_train, y_train)"
   ]
  },
  {
   "cell_type": "code",
   "execution_count": 38,
   "id": "ee287fd5",
   "metadata": {},
   "outputs": [
    {
     "name": "stdout",
     "output_type": "stream",
     "text": [
      "0.8571428571428571\n"
     ]
    }
   ],
   "source": [
    "print(svm.score(X_test, y_test))"
   ]
  },
  {
   "cell_type": "code",
   "execution_count": 58,
   "id": "0c048fad",
   "metadata": {},
   "outputs": [
    {
     "data": {
      "image/png": "[encoded data removed]",
      "text/plain": [
       "<Figure size 432x288 with 2 Axes>"
      ]
     },
     "metadata": {
      "needs_background": "light"
     },
     "output_type": "display_data"
    }
   ],
   "source": [
    "# Calculate Linear SVM predicted probabilities\n",
    "clf = CalibratedClassifierCV(svm)\n",
    "clf.fit(X_train, y_train)\n",
    "y_probs = clf.predict_proba(X_test)\n",
    "\n",
    "# Calculate confusion matrix\n",
    "y_pred = (y_probs[:,1]>=0.5).astype(int)\n",
    "cm = confusion_matrix(y_test, y_pred)\n",
    "disp = ConfusionMatrixDisplay(confusion_matrix=cm)\n",
    "disp.plot()\n",
    "plt.show()"
   ]
  },
  {
   "cell_type": "markdown",
   "id": "89626649",
   "metadata": {},
   "source": [
    "# Model 3: K-NN"
   ]
  },
  {
   "cell_type": "code",
   "execution_count": null,
   "id": "cdf30afe",
   "metadata": {},
   "outputs": [],
   "source": []
  },
  {
   "cell_type": "code",
   "execution_count": null,
   "id": "2cc50a36",
   "metadata": {},
   "outputs": [],
   "source": []
  },
  {
   "cell_type": "code",
   "execution_count": 70,
   "id": "0d3bd872",
   "metadata": {},
   "outputs": [
    {
     "data": {
      "text/plain": [
       "12"
      ]
     },
     "execution_count": 70,
     "metadata": {},
     "output_type": "execute_result"
    }
   ],
   "source": [
    "len(feat_labels)"
   ]
  },
  {
   "cell_type": "code",
   "execution_count": null,
   "id": "62d33d4a",
   "metadata": {},
   "outputs": [],
   "source": [
    "# NN precision-recall curve\n",
    "precision, recall, _ = precision_recall_curve(y_test, y_pred)\n",
    "plt.plot(recall, precision)\n",
    "plt.xlabel('Recall')\n",
    "plt.ylabel('Precision')\n",
    "plt.show()"
   ]
  }
 ],
 "metadata": {
  "kernelspec": {
   "display_name": "Python 3 (ipykernel)",
   "language": "python",
   "name": "python3"
  },
  "language_info": {
   "codemirror_mode": {
    "name": "ipython",
    "version": 3
   },
   "file_extension": ".py",
   "mimetype": "text/x-python",
   "name": "python",
   "nbconvert_exporter": "python",
   "pygments_lexer": "ipython3",
   "version": "3.8.13"
  }
 },
 "nbformat": 4,
 "nbformat_minor": 5
}
