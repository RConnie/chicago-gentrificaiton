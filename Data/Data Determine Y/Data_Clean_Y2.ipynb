{
 "cells": [
  {
   "cell_type": "code",
   "execution_count": 179,
   "id": "4259c51c",
   "metadata": {},
   "outputs": [],
   "source": [
    "import pandas as pd\n",
    "import numpy as np\n",
    "import csv"
   ]
  },
  {
   "cell_type": "code",
   "execution_count": 180,
   "id": "10453a22",
   "metadata": {},
   "outputs": [],
   "source": [
    "#read in data from Chicago Health Atlas\n",
    "raw_data = pd.read_csv('Y_Data_2.csv')\n"
   ]
  },
  {
   "cell_type": "code",
   "execution_count": 181,
   "id": "d552deed",
   "metadata": {},
   "outputs": [],
   "source": [
    "#Clean data, add new columns for analysis\n",
    "clean_df = pd.DataFrame().assign(Zipcode=raw_data['Name'], College_12=raw_data['EDE_2008-2012'], College_16=raw_data['EDE_2012-2016'], \n",
    "                                College_20=raw_data['EDE_2016-2020'], Income_12=raw_data['INC_2008-2012'], Income_16=raw_data['INC_2012-2016'],\n",
    "                                Income_20=raw_data['INC_2016-2020'],PCTW_12=raw_data['PCT-W_2008-2012'],PCTW_16=raw_data['PCT-W_2012-2016'],\n",
    "                                PCTW_20=raw_data['PCT-W_2016-2020'])\n",
    "\n",
    "clean_df['2016 Eligible'] = 'NAN'\n",
    "clean_df['2016 Gentrified'] = 'NAN'\n",
    "clean_df['2020 Eligible'] = 'NAN'\n",
    "clean_df['2020 Gentrified'] = 'NAN'\n",
    "clean_df['College_Diff16'] = 'NAN'\n",
    "clean_df['College_Diff20'] = 'NAN'\n",
    "clean_df['W_Diff16'] = 'NAN'\n",
    "clean_df['W_Diff20'] = 'NAN'\n",
    "\n",
    "clean_df = clean_df.drop(0)\n"
   ]
  },
  {
   "cell_type": "code",
   "execution_count": 182,
   "id": "939f2b74",
   "metadata": {},
   "outputs": [],
   "source": [
    "#Convert columns to float values (originally string vlaues)\n",
    "clean_df['College_12'] = clean_df['College_12'].astype(float) \n",
    "clean_df['College_16'] = clean_df['College_16'].astype(float) \n",
    "clean_df['College_20'] = clean_df['College_20'].astype(float) \n",
    "clean_df['Income_12'] = clean_df['Income_12'].astype(float) \n",
    "clean_df['Income_16'] = clean_df['Income_16'].astype(float) \n",
    "clean_df['Income_20'] =clean_df['Income_20'].astype(float) \n",
    "clean_df['PCTW_12'] = clean_df['PCTW_12'].astype(float) \n",
    "clean_df['PCTW_16'] = clean_df['PCTW_16'].astype(float) \n",
    "clean_df['PCTW_20'] = clean_df['PCTW_20'].astype(float) "
   ]
  },
  {
   "cell_type": "markdown",
   "id": "f07990ef",
   "metadata": {},
   "source": [
    "Chicago medium income data taken from Chicago Health Atlas for the years 2012, 2016 and 2020. \n",
    "We will use the threshold that if the medium income of a zipcode is 50% above the Chicago medium\n",
    "then it is ineligible to be gentrified, else it is eligible.\n",
    "\n",
    "Chicago medium income in 2012 was 56,129, 50% above is 84,194\n",
    "\n",
    "Chicago medium income 2016:  56,853, 50% above is 85,280\n",
    "\n",
    "Chicago medium income 2020:  61,784, 50% above is 92,676\n",
    "\n",
    "\n"
   ]
  },
  {
   "cell_type": "code",
   "execution_count": 183,
   "id": "dcfd4ae0",
   "metadata": {},
   "outputs": [],
   "source": [
    "#function to determine if zipcode is eligible to be gentrified\n",
    "# 1-True it is eligible, 0- False ineligible \n",
    "def gent_eligible(df):\n",
    "    '''\n",
    "    Return boolean if medium income level is greater than or less than 50% of Chicago's medium income\n",
    "    '''\n",
    "    income_16_lst = []\n",
    "    income_20_lst = []\n",
    "    \n",
    "    a = df['Income_16'].tolist()\n",
    "    b = df['Income_20'].tolist()\n",
    " \n",
    "    \n",
    "    for val in a:\n",
    "        if val < 85280.0: #threshold\n",
    "            income_16_lst.append(1)\n",
    "        \n",
    "        else:\n",
    "             income_16_lst.append(0)\n",
    "    \n",
    "    for val in b:\n",
    "        if val < 92676.0: #threshold\n",
    "            income_20_lst.append(1)\n",
    "        else:\n",
    "            income_20_lst.append(0)\n",
    "    \n",
    "    return income_16_lst, income_20_lst\n",
    " \n",
    "    "
   ]
  },
  {
   "cell_type": "code",
   "execution_count": 184,
   "id": "f2c8ab66",
   "metadata": {},
   "outputs": [],
   "source": [
    "#Create columns for elgibility variable\n",
    "eligible_16, eligible_20 = gent_eligible(clean_df)\n",
    "clean_df['2016 Eligible'] = eligible_16\n",
    "clean_df['2020 Eligible'] = eligible_20"
   ]
  },
  {
   "cell_type": "code",
   "execution_count": 185,
   "id": "9c076c36",
   "metadata": {},
   "outputs": [],
   "source": [
    "# Calculate the percentage point difference of percent of population college educated \n",
    "# and the percentage point differene in the percent of population that is White\n",
    "# Have set our threshold for significant to at least 10 percentage points\n",
    "\n",
    "college_diff16 = clean_df['College_16'] - clean_df['College_12'] \n",
    "w_diff16 = clean_df['PCTW_16'] - clean_df['PCTW_12']\n",
    "\n",
    "college_diff20 = clean_df['College_20'] - clean_df['College_12'] \n",
    "w_diff20 = clean_df['PCTW_20'] - clean_df['PCTW_12']\n",
    "\n",
    "clean_df['College_Diff16'] = college_diff16.tolist()\n",
    "clean_df['College_Diff20'] = college_diff20.tolist()\n",
    "clean_df['W_Diff16'] = w_diff16.tolist()\n",
    "clean_df['W_Diff20'] = w_diff20.tolist()\n"
   ]
  },
  {
   "cell_type": "code",
   "execution_count": 186,
   "id": "b9494abe",
   "metadata": {},
   "outputs": [],
   "source": [
    "#function to determine if an eligible zipcode was gentrified (1 - True) or not (0 - False)\n",
    "\n",
    "def gentrified(df, College_Yr, W_YR):\n",
    "    '''\n",
    "    return 0 or 1 if eligible zipcode was gentrified\n",
    "    \n",
    "    '''\n",
    "    a = df['2016 Eligible'].tolist()\n",
    " \n",
    "    gent_lst = []\n",
    "    \n",
    "    \n",
    "    for i, val in enumerate(a):\n",
    "        if val == 1: \n",
    "            if df[College_Yr][i+1] >= 10.0 or df[W_YR][i+1] >= 10.0: #threshold of at least 10 percentage points\n",
    "                gent_lst.append(1)\n",
    "            else: \n",
    "                gent_lst.append(0)\n",
    "        else:\n",
    "            gent_lst.append(0)\n",
    "            \n",
    "    return gent_lst\n",
    "    "
   ]
  },
  {
   "cell_type": "code",
   "execution_count": 187,
   "id": "bc6890fa",
   "metadata": {},
   "outputs": [],
   "source": [
    "#Create columns for gentrified variable\n",
    "gent_lst_16 = gentrified(clean_df, 'College_Diff16', 'W_Diff16')\n",
    "gent_lst_20 = gentrified(clean_df, 'College_Diff20', 'W_Diff20')\n",
    "clean_df['2016 Gentrified'] = gent_lst_16\n",
    "clean_df['2020 Gentrified'] = gent_lst_20"
   ]
  },
  {
   "cell_type": "code",
   "execution_count": 188,
   "id": "b44ccfea",
   "metadata": {},
   "outputs": [],
   "source": [
    "#Create final dataframe with just zipcode and gentrification (y) variables\n",
    "fin_df = pd.DataFrame().assign(Zipcode=clean_df['Zipcode'], Eligible2016=clean_df['2016 Eligible'], Gentrified2016 = clean_df['2016 Gentrified'],\n",
    "                               Eligible2020=clean_df['2020 Eligible'], Gentrified2020 = clean_df['2020 Gentrified'])"
   ]
  },
  {
   "cell_type": "code",
   "execution_count": 189,
   "id": "e2397253",
   "metadata": {},
   "outputs": [],
   "source": [
    "#Export both dataframes to csv files\n",
    "clean_df.to_csv(\"Zipcode_Complete_Data_Yvalues.csv\")\n",
    "fin_df.to_csv(\"Zipcode_Yvalues.csv\")"
   ]
  },
  {
   "cell_type": "code",
   "execution_count": null,
   "id": "294907de",
   "metadata": {},
   "outputs": [],
   "source": []
  }
 ],
 "metadata": {
  "kernelspec": {
   "display_name": "Python 3 (ipykernel)",
   "language": "python",
   "name": "python3"
  },
  "language_info": {
   "codemirror_mode": {
    "name": "ipython",
    "version": 3
   },
   "file_extension": ".py",
   "mimetype": "text/x-python",
   "name": "python",
   "nbconvert_exporter": "python",
   "pygments_lexer": "ipython3",
   "version": "3.10.4"
  }
 },
 "nbformat": 4,
 "nbformat_minor": 5
}
